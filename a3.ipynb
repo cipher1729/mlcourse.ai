{
  "cells": [
    {
      "metadata": {
        "trusted": true,
        "_uuid": "da476d8408533366f3b76f8df03213458642a6ed"
      },
      "cell_type": "code",
      "source": "",
      "execution_count": null,
      "outputs": []
    },
    {
      "metadata": {
        "_uuid": "8f2839f25d086af736a60e9eeb907d3b93b6e0e5",
        "_cell_guid": "b1076dfc-b9ad-4769-8c92-a6c4dae69d19",
        "trusted": true
      },
      "cell_type": "code",
      "source": "# This Python 3 environment comes with many helpful analytics libraries installed\n# It is defined by the kaggle/python docker image: https://github.com/kaggle/docker-python\n# For example, here's several helpful packages to load in \n\nimport numpy as np # linear algebra\nimport pandas as pd # data processing, CSV file I/O (e.g. pd.read_csv)\n\n# Input data files are available in the \"../input/\" directory.\n# For example, running this (by clicking run or pressing Shift+Enter) will list the files in the input directory\n\nimport os\nprint(os.listdir(\"../input\"))\n\n# Any results you write to the current directory are saved as output.",
      "execution_count": null,
      "outputs": []
    },
    {
      "metadata": {
        "trusted": true,
        "_uuid": "ce6bb54c0970da84f5aa0809db5f21c8a4b3a4ce"
      },
      "cell_type": "code",
      "source": "",
      "execution_count": null,
      "outputs": []
    },
    {
      "metadata": {
        "trusted": true,
        "_uuid": "a360115a9964776303bf6b82e3a72232814b799f"
      },
      "cell_type": "code",
      "source": "",
      "execution_count": null,
      "outputs": []
    },
    {
      "metadata": {
        "_cell_guid": "79c7e3d0-c299-4dcb-8224-4455121ee9b0",
        "_uuid": "d629ff2d2480ee46fbb7e2d37f6b5fab8052498a",
        "trusted": true
      },
      "cell_type": "code",
      "source": "import numpy as np\nfrom matplotlib import pyplot as plt\ndef variance(X,y):\n    return (np.dot(y - np.mean(y),y - np.mean(y)))/ X.size\nt= np.linspace(-1.9,1.9,10)\nX = np.linspace(-2, 2, 7)\ny = X ** 3\ndisplay(type(y))\nDo = variance(X,y)\nq=[]\nfor threshold in t:\n    XlIndex= np.where(X<threshold)\n    Xl = X[XlIndex]\n    yl = y[XlIndex]\n    XrIndex= np.where(X>threshold)\n    Xr = X[XrIndex]\n    yr=  y[XrIndex]\n    q.append(Do - (len(XlIndex)/(X.size) * variance(Xl,yl)) -(len(XrIndex)/(X.size) * variance(Xr,yr)))\nplt.scatter(t,q)    \ndisplay(y)\n",
      "execution_count": 100,
      "outputs": [
        {
          "output_type": "display_data",
          "data": {
            "text/plain": "numpy.ndarray"
          },
          "metadata": {}
        },
        {
          "output_type": "display_data",
          "data": {
            "text/plain": "array([-8.        , -2.37037037, -0.2962963 ,  0.        ,  0.2962963 ,\n        2.37037037,  8.        ])"
          },
          "metadata": {}
        },
        {
          "output_type": "display_data",
          "data": {
            "text/plain": "<Figure size 432x288 with 1 Axes>",
            "image/png": "[encoded data removed]"
          },
          "metadata": {
            "needs_background": "light"
          }
        }
      ]
    },
    {
      "metadata": {
        "trusted": true,
        "_uuid": "8397c98e70528643a4bc401f9e654fb3ff105f5b"
      },
      "cell_type": "code",
      "source": "display(y)\n# need to scale up and truncate y floats dont work for classifiers\nscale = np.array([[100]], np.int32)\nscaled= np.multiply(y,scale)\nscaled = scaled.astype('int')\nscaled = scaled.reshape(-1,1)\n",
      "execution_count": null,
      "outputs": []
    },
    {
      "metadata": {
        "trusted": true,
        "_uuid": "db59e52b8935b5a6d40a6cdf1ba72368e9730fa4"
      },
      "cell_type": "code",
      "source": "",
      "execution_count": null,
      "outputs": []
    },
    {
      "metadata": {
        "trusted": true,
        "_uuid": "558d91a5589a6614f54514aeaabb03b3aee514a8"
      },
      "cell_type": "code",
      "source": "from sklearn.tree import DecisionTreeClassifier\ndt = DecisionTreeClassifier()\ndt.fit(X.reshape(-1,1),scaled)\nx = np.linspace(-2,2,20);\n#X.reshape(-1,1)\npreds  = dt.predict(x.reshape(-1,1))\nplt.scatter(x, preds )",
      "execution_count": 99,
      "outputs": [
        {
          "output_type": "error",
          "ename": "NameError",
          "evalue": "name 'X' is not defined",
          "traceback": [
            "\u001b[0;31m---------------------------------------------------------------------------\u001b[0m",
            "\u001b[0;31mNameError\u001b[0m                                 Traceback (most recent call last)",
            "\u001b[0;32m<ipython-input-99-41591ac92bda>\u001b[0m in \u001b[0;36m<module>\u001b[0;34m\u001b[0m\n\u001b[1;32m      1\u001b[0m \u001b[0;32mfrom\u001b[0m \u001b[0msklearn\u001b[0m\u001b[0;34m.\u001b[0m\u001b[0mtree\u001b[0m \u001b[0;32mimport\u001b[0m \u001b[0mDecisionTreeClassifier\u001b[0m\u001b[0;34m\u001b[0m\u001b[0m\n\u001b[1;32m      2\u001b[0m \u001b[0mdt\u001b[0m \u001b[0;34m=\u001b[0m \u001b[0mDecisionTreeClassifier\u001b[0m\u001b[0;34m(\u001b[0m\u001b[0;34m)\u001b[0m\u001b[0;34m\u001b[0m\u001b[0m\n\u001b[0;32m----> 3\u001b[0;31m \u001b[0mdt\u001b[0m\u001b[0;34m.\u001b[0m\u001b[0mfit\u001b[0m\u001b[0;34m(\u001b[0m\u001b[0mX\u001b[0m\u001b[0;34m.\u001b[0m\u001b[0mreshape\u001b[0m\u001b[0;34m(\u001b[0m\u001b[0;34m-\u001b[0m\u001b[0;36m1\u001b[0m\u001b[0;34m,\u001b[0m\u001b[0;36m1\u001b[0m\u001b[0;34m)\u001b[0m\u001b[0;34m,\u001b[0m\u001b[0mscaled\u001b[0m\u001b[0;34m)\u001b[0m\u001b[0;34m\u001b[0m\u001b[0m\n\u001b[0m\u001b[1;32m      4\u001b[0m \u001b[0mx\u001b[0m \u001b[0;34m=\u001b[0m \u001b[0mnp\u001b[0m\u001b[0;34m.\u001b[0m\u001b[0mlinspace\u001b[0m\u001b[0;34m(\u001b[0m\u001b[0;34m-\u001b[0m\u001b[0;36m2\u001b[0m\u001b[0;34m,\u001b[0m\u001b[0;36m2\u001b[0m\u001b[0;34m,\u001b[0m\u001b[0;36m20\u001b[0m\u001b[0;34m)\u001b[0m\u001b[0;34m;\u001b[0m\u001b[0;34m\u001b[0m\u001b[0m\n\u001b[1;32m      5\u001b[0m \u001b[0;31m#X.reshape(-1,1)\u001b[0m\u001b[0;34m\u001b[0m\u001b[0;34m\u001b[0m\u001b[0m\n",
            "\u001b[0;31mNameError\u001b[0m: name 'X' is not defined"
          ]
        }
      ]
    },
    {
      "metadata": {
        "trusted": true,
        "_uuid": "1c870ac0036d81bf73505a7db18e9505efbc6249"
      },
      "cell_type": "code",
      "source": "import pandas as pd\ndf= pd.read_csv('../input/mlbootcamp5_train.csv', index_col = 'id', sep=';')\ndf['age'] = df['age'].apply(lambda x : x/365)\ndf = pd.get_dummies(df, columns= ['cholesterol','gluc'])\ndf.head()\n",
      "execution_count": 3,
      "outputs": [
        {
          "output_type": "execute_result",
          "execution_count": 3,
          "data": {
            "text/plain": "          age  gender  height   ...    gluc_1  gluc_2  gluc_3\nid                              ...                          \n0   50.391781       2     168   ...         1       0       0\n1   55.419178       1     156   ...         1       0       0\n2   51.663014       1     165   ...         1       0       0\n3   48.282192       2     169   ...         1       0       0\n4   47.873973       1     156   ...         1       0       0\n\n[5 rows x 16 columns]",
            "text/html": "<div>\n<style scoped>\n    .dataframe tbody tr th:only-of-type {\n        vertical-align: middle;\n    }\n\n    .dataframe tbody tr th {\n        vertical-align: top;\n    }\n\n    .dataframe thead th {\n        text-align: right;\n    }\n</style>\n<table border=\"1\" class=\"dataframe\">\n  <thead>\n    <tr style=\"text-align: right;\">\n      <th></th>\n      <th>age</th>\n      <th>gender</th>\n      <th>height</th>\n      <th>weight</th>\n      <th>ap_hi</th>\n      <th>ap_lo</th>\n      <th>smoke</th>\n      <th>alco</th>\n      <th>active</th>\n      <th>cardio</th>\n      <th>cholesterol_1</th>\n      <th>cholesterol_2</th>\n      <th>cholesterol_3</th>\n      <th>gluc_1</th>\n      <th>gluc_2</th>\n      <th>gluc_3</th>\n    </tr>\n    <tr>\n      <th>id</th>\n      <th></th>\n      <th></th>\n      <th></th>\n      <th></th>\n      <th></th>\n      <th></th>\n      <th></th>\n      <th></th>\n      <th></th>\n      <th></th>\n      <th></th>\n      <th></th>\n      <th></th>\n      <th></th>\n      <th></th>\n      <th></th>\n    </tr>\n  </thead>\n  <tbody>\n    <tr>\n      <th>0</th>\n      <td>50.391781</td>\n      <td>2</td>\n      <td>168</td>\n      <td>62.0</td>\n      <td>110</td>\n      <td>80</td>\n      <td>0</td>\n      <td>0</td>\n      <td>1</td>\n      <td>0</td>\n      <td>1</td>\n      <td>0</td>\n      <td>0</td>\n      <td>1</td>\n      <td>0</td>\n      <td>0</td>\n    </tr>\n    <tr>\n      <th>1</th>\n      <td>55.419178</td>\n      <td>1</td>\n      <td>156</td>\n      <td>85.0</td>\n      <td>140</td>\n      <td>90</td>\n      <td>0</td>\n      <td>0</td>\n      <td>1</td>\n      <td>1</td>\n      <td>0</td>\n      <td>0</td>\n      <td>1</td>\n      <td>1</td>\n      <td>0</td>\n      <td>0</td>\n    </tr>\n    <tr>\n      <th>2</th>\n      <td>51.663014</td>\n      <td>1</td>\n      <td>165</td>\n      <td>64.0</td>\n      <td>130</td>\n      <td>70</td>\n      <td>0</td>\n      <td>0</td>\n      <td>0</td>\n      <td>1</td>\n      <td>0</td>\n      <td>0</td>\n      <td>1</td>\n      <td>1</td>\n      <td>0</td>\n      <td>0</td>\n    </tr>\n    <tr>\n      <th>3</th>\n      <td>48.282192</td>\n      <td>2</td>\n      <td>169</td>\n      <td>82.0</td>\n      <td>150</td>\n      <td>100</td>\n      <td>0</td>\n      <td>0</td>\n      <td>1</td>\n      <td>1</td>\n      <td>1</td>\n      <td>0</td>\n      <td>0</td>\n      <td>1</td>\n      <td>0</td>\n      <td>0</td>\n    </tr>\n    <tr>\n      <th>4</th>\n      <td>47.873973</td>\n      <td>1</td>\n      <td>156</td>\n      <td>56.0</td>\n      <td>100</td>\n      <td>60</td>\n      <td>0</td>\n      <td>0</td>\n      <td>0</td>\n      <td>0</td>\n      <td>1</td>\n      <td>0</td>\n      <td>0</td>\n      <td>1</td>\n      <td>0</td>\n      <td>0</td>\n    </tr>\n  </tbody>\n</table>\n</div>"
          },
          "metadata": {}
        }
      ]
    },
    {
      "metadata": {
        "trusted": true,
        "_uuid": "2db73094e0504a026b12605c6982ff8e6129cef7"
      },
      "cell_type": "code",
      "source": "from sklearn.model_selection import train_test_split\nfrom sklearn.tree import DecisionTreeClassifier\nfrom ipywidgets import Image\nfrom io import StringIO\nimport pydotplus #pip install pydotplus\nfrom sklearn.tree import export_graphviz\ntrain_df = df.drop(['cardio'], axis=1)\nX_train, X_test, y_train, y_test = train_test_split(train_df, df['cardio'], test_size=0.3, random_state=17)\ndt = DecisionTreeClassifier(random_state=17)\n",
      "execution_count": 17,
      "outputs": [
        {
          "output_type": "execute_result",
          "execution_count": 17,
          "data": {
            "text/plain": "735000"
          },
          "metadata": {}
        }
      ]
    },
    {
      "metadata": {
        "trusted": true,
        "_uuid": "f207d27039282d796f6390f4707040c459393b89"
      },
      "cell_type": "code",
      "source": "dt.fit(X_train,y_train)\nfeature_names_train = df.columns\nfeature_names_train =  feature_names.drop(['cardio'])\ndot_data = StringIO()\nexport_graphviz(dt, feature_names = feature_names_train,\n                out_file=dot_data, filled=True)\ngraph = pydotplus.graph_from_dot_data(dot_data.getvalue())  \nImage(value=graph.create_png())\n\n",
      "execution_count": 20,
      "outputs": [
        {
          "output_type": "display_data",
          "data": {
            "text/plain": "Image(value=b'\\x89PNG\\r\\n\\x1a\\n\\x00\\x00\\x00\\rIHDR\\x00\\x00\\x06\\x0b\\x00\\x00\\x01\\xf1\\x08\\x06\\x00\\x00\\x00Sg\\x8c\\xa…",
            "application/vnd.jupyter.widget-view+json": {
              "version_major": 2,
              "version_minor": 0,
              "model_id": "5f103dd656f747f4985c852db90cc7ff"
            }
          },
          "metadata": {}
        }
      ]
    },
    {
      "metadata": {
        "trusted": true,
        "_uuid": "c9e4209d38a577e8cfd36d2e3b378ef87ab7b36f"
      },
      "cell_type": "code",
      "source": "dt.score(X_test, y_test)",
      "execution_count": 21,
      "outputs": [
        {
          "output_type": "execute_result",
          "execution_count": 21,
          "data": {
            "text/plain": "0.7212857142857143"
          },
          "metadata": {}
        }
      ]
    },
    {
      "metadata": {
        "trusted": true,
        "_uuid": "12a0c499469df6a228441cab11b746464c04464b"
      },
      "cell_type": "code",
      "source": "from sklearn.model_selection import GridSearchCV, cross_val_score\ntree_params = {'max_depth': list(range(2, 11))}\ntree_grid = GridSearchCV(dt, tree_params,\ncv=5, n_jobs=-1,\nverbose=True, return_train_score=True)\ntree_grid.fit(X_train, y_train)\n\n",
      "execution_count": 37,
      "outputs": [
        {
          "output_type": "stream",
          "text": "Fitting 5 folds for each of 9 candidates, totalling 45 fits\n",
          "name": "stdout"
        },
        {
          "output_type": "stream",
          "text": "[Parallel(n_jobs=-1)]: Done  38 out of  45 | elapsed:    1.7s remaining:    0.3s\n[Parallel(n_jobs=-1)]: Done  45 out of  45 | elapsed:    2.0s finished\n",
          "name": "stderr"
        },
        {
          "output_type": "execute_result",
          "execution_count": 37,
          "data": {
            "text/plain": "GridSearchCV(cv=5, error_score='raise',\n       estimator=DecisionTreeClassifier(class_weight=None, criterion='gini', max_depth=3,\n            max_features=None, max_leaf_nodes=None,\n            min_impurity_decrease=0.0, min_impurity_split=None,\n            min_samples_leaf=1, min_samples_split=2,\n            min_weight_fraction_leaf=0.0, presort=False, random_state=17,\n            splitter='best'),\n       fit_params=None, iid=True, n_jobs=-1,\n       param_grid={'max_depth': [2, 3, 4, 5, 6, 7, 8, 9, 10]},\n       pre_dispatch='2*n_jobs', refit=True, return_train_score=True,\n       scoring=None, verbose=True)"
          },
          "metadata": {}
        }
      ]
    },
    {
      "metadata": {
        "trusted": true,
        "_uuid": "a0e97a9603c257299b9c7fa217fa12bb563a39f4"
      },
      "cell_type": "code",
      "source": "from matplotlib import pyplot as plt\nscoring = tree_grid.grid_scores_\nscores = [x.mean_validation_score for x in scoring]\ndepths = list(range(2, 11))\nplt.scatter(depths,scores)\n",
      "execution_count": 52,
      "outputs": [
        {
          "output_type": "stream",
          "text": "/opt/conda/lib/python3.6/site-packages/sklearn/model_selection/_search.py:761: DeprecationWarning: The grid_scores_ attribute was deprecated in version 0.18 in favor of the more elaborate cv_results_ attribute. The grid_scores_ attribute will not be available from 0.20\n  DeprecationWarning)\n",
          "name": "stderr"
        },
        {
          "output_type": "execute_result",
          "execution_count": 52,
          "data": {
            "text/plain": "<matplotlib.collections.PathCollection at 0x7fa33d235e10>"
          },
          "metadata": {}
        },
        {
          "output_type": "display_data",
          "data": {
            "text/plain": "<Figure size 432x288 with 1 Axes>",
            "image/png": "[encoded data removed]"
          },
          "metadata": {
            "needs_background": "light"
          }
        }
      ]
    },
    {
      "metadata": {
        "trusted": true,
        "_uuid": "aa5d11414d3cfe94c07695d04332351440ce6456"
      },
      "cell_type": "code",
      "source": "\n#accuracy on holdout data\ndt= DecisionTreeClassifier(max_depth=6, random_state =17)\ndt.fit(X_train,y_train)\ndt.score(X_test, y_test)",
      "execution_count": 56,
      "outputs": [
        {
          "output_type": "execute_result",
          "execution_count": 56,
          "data": {
            "text/plain": "0.7258095238095238"
          },
          "metadata": {}
        }
      ]
    },
    {
      "metadata": {
        "trusted": true,
        "_uuid": "60e95236cf8a50d2b6d6060510551e776180fe1b"
      },
      "cell_type": "code",
      "source": "#gridsearch cvbest scores\ntree_grid.best_estimator_.score(X_test, y_test)\n",
      "execution_count": 58,
      "outputs": [
        {
          "output_type": "execute_result",
          "execution_count": 58,
          "data": {
            "text/plain": "0.7258095238095238"
          },
          "metadata": {}
        }
      ]
    },
    {
      "metadata": {
        "trusted": true,
        "_uuid": "ccb6343fe892fb8e9fa690fd97dd0b4f357b02e6"
      },
      "cell_type": "code",
      "source": "#change in accuracy\ndt= DecisionTreeClassifier(max_depth=3, random_state =17)\ndt.fit(X_train,y_train)\nold = dt.score(X_test, y_test)\nnew = 0.7258095238095238\nchange = (new-old)/old * 100\ndisplay(old)\ndisplay(new)\ndisplay(change)\n",
      "execution_count": 62,
      "outputs": [
        {
          "output_type": "display_data",
          "data": {
            "text/plain": "0.7212857142857143"
          },
          "metadata": {}
        },
        {
          "output_type": "display_data",
          "data": {
            "text/plain": "0.7258095238095238"
          },
          "metadata": {}
        },
        {
          "output_type": "display_data",
          "data": {
            "text/plain": "0.6271869016967002"
          },
          "metadata": {}
        }
      ]
    },
    {
      "metadata": {
        "trusted": true,
        "_uuid": "2e0d813403b2c7f1c12722a2224c539ce1c9ef8b"
      },
      "cell_type": "code",
      "source": "#bin age\nimport pandas as pd \ndf= pd.read_csv('../input/mlbootcamp5_train.csv', index_col = 'id', sep=';')\ndf['age'] = df['age'].apply(lambda x : x/365)\ndf['age'] = df['age'].astype('int')\ndf['age_1'] = df['age'].apply(lambda x: 1 if ((x>= 40) & (x<50)) else 0)\ndf['age_2'] = df['age'].apply(lambda x: 1 if ((x>= 50) & (x<55)) else 0)\ndf['age_3'] = df['age'].apply(lambda x: 1 if ((x>= 55) & (x<60)) else 0)\ndf['age_4'] = df['age'].apply(lambda x: 1 if ((x>= 60) & (x<65)) else 0)\ndf['bp1'] = df['ap_hi'].apply(lambda x: 1 if ((x>= 120) & (x<140)) else 0)\ndf['bp2'] = df['ap_hi'].apply(lambda x: 1 if ((x>= 140) & (x<160)) else 0)\ndf['bp3'] = df['ap_hi'].apply(lambda x: 1 if ((x>= 160) & (x<180)) else 0)\ndf= pd.get_dummies(df,columns=['cholesterol'])\ndf['gender'] = df['gender'].map({2:1,1:0})\ntrain_df= df[['smoke','gender','age_1','age_2','age_3','age_4','bp1','bp2','bp3','cholesterol_1','cholesterol_2','cholesterol_3']]\ntrain_df.head()\n\n\n",
      "execution_count": 95,
      "outputs": [
        {
          "output_type": "execute_result",
          "execution_count": 95,
          "data": {
            "text/plain": "    smoke  gender      ...        cholesterol_2  cholesterol_3\nid                     ...                                    \n0       0       1      ...                    0              0\n1       0       0      ...                    0              1\n2       0       0      ...                    0              1\n3       0       1      ...                    0              0\n4       0       0      ...                    0              0\n\n[5 rows x 12 columns]",
            "text/html": "<div>\n<style scoped>\n    .dataframe tbody tr th:only-of-type {\n        vertical-align: middle;\n    }\n\n    .dataframe tbody tr th {\n        vertical-align: top;\n    }\n\n    .dataframe thead th {\n        text-align: right;\n    }\n</style>\n<table border=\"1\" class=\"dataframe\">\n  <thead>\n    <tr style=\"text-align: right;\">\n      <th></th>\n      <th>smoke</th>\n      <th>gender</th>\n      <th>age_1</th>\n      <th>age_2</th>\n      <th>age_3</th>\n      <th>age_4</th>\n      <th>bp1</th>\n      <th>bp2</th>\n      <th>bp3</th>\n      <th>cholesterol_1</th>\n      <th>cholesterol_2</th>\n      <th>cholesterol_3</th>\n    </tr>\n    <tr>\n      <th>id</th>\n      <th></th>\n      <th></th>\n      <th></th>\n      <th></th>\n      <th></th>\n      <th></th>\n      <th></th>\n      <th></th>\n      <th></th>\n      <th></th>\n      <th></th>\n      <th></th>\n    </tr>\n  </thead>\n  <tbody>\n    <tr>\n      <th>0</th>\n      <td>0</td>\n      <td>1</td>\n      <td>0</td>\n      <td>1</td>\n      <td>0</td>\n      <td>0</td>\n      <td>0</td>\n      <td>0</td>\n      <td>0</td>\n      <td>1</td>\n      <td>0</td>\n      <td>0</td>\n    </tr>\n    <tr>\n      <th>1</th>\n      <td>0</td>\n      <td>0</td>\n      <td>0</td>\n      <td>0</td>\n      <td>1</td>\n      <td>0</td>\n      <td>0</td>\n      <td>1</td>\n      <td>0</td>\n      <td>0</td>\n      <td>0</td>\n      <td>1</td>\n    </tr>\n    <tr>\n      <th>2</th>\n      <td>0</td>\n      <td>0</td>\n      <td>0</td>\n      <td>1</td>\n      <td>0</td>\n      <td>0</td>\n      <td>1</td>\n      <td>0</td>\n      <td>0</td>\n      <td>0</td>\n      <td>0</td>\n      <td>1</td>\n    </tr>\n    <tr>\n      <th>3</th>\n      <td>0</td>\n      <td>1</td>\n      <td>1</td>\n      <td>0</td>\n      <td>0</td>\n      <td>0</td>\n      <td>0</td>\n      <td>1</td>\n      <td>0</td>\n      <td>1</td>\n      <td>0</td>\n      <td>0</td>\n    </tr>\n    <tr>\n      <th>4</th>\n      <td>0</td>\n      <td>0</td>\n      <td>1</td>\n      <td>0</td>\n      <td>0</td>\n      <td>0</td>\n      <td>0</td>\n      <td>0</td>\n      <td>0</td>\n      <td>1</td>\n      <td>0</td>\n      <td>0</td>\n    </tr>\n  </tbody>\n</table>\n</div>"
          },
          "metadata": {}
        }
      ]
    },
    {
      "metadata": {
        "trusted": true,
        "_uuid": "89df87220f68f93d7b80155494ae1d235fbab74d"
      },
      "cell_type": "code",
      "source": "from sklearn.tree import DecisionTreeClassifier\ndt= DecisionTreeClassifier(max_depth=3, random_state=17)\ndf.head()\ndt.fit(train_df, df['cardio'])",
      "execution_count": 97,
      "outputs": [
        {
          "output_type": "execute_result",
          "execution_count": 97,
          "data": {
            "text/plain": "DecisionTreeClassifier(class_weight=None, criterion='gini', max_depth=3,\n            max_features=None, max_leaf_nodes=None,\n            min_impurity_decrease=0.0, min_impurity_split=None,\n            min_samples_leaf=1, min_samples_split=2,\n            min_weight_fraction_leaf=0.0, presort=False, random_state=17,\n            splitter='best')"
          },
          "metadata": {}
        }
      ]
    },
    {
      "metadata": {
        "trusted": true,
        "_uuid": "df403441eaedc4e3e1764a7610f566229805b565"
      },
      "cell_type": "code",
      "source": "feature_names_train = train_df.columns\ndot_data = StringIO()\nexport_graphviz(dt, feature_names = feature_names_train,\n                out_file=dot_data, filled=True)\ngraph = pydotplus.graph_from_dot_data(dot_data.getvalue())  \nImage(value=graph.create_png())",
      "execution_count": 98,
      "outputs": [
        {
          "output_type": "display_data",
          "data": {
            "text/plain": "Image(value=b'\\x89PNG\\r\\n\\x1a\\n\\x00\\x00\\x00\\rIHDR\\x00\\x00\\x06\\x07\\x00\\x00\\x01\\xf1\\x08\\x02\\x00\\x00\\x00\\xc69\\xfb…",
            "application/vnd.jupyter.widget-view+json": {
              "version_major": 2,
              "version_minor": 0,
              "model_id": "a6266a3a55ab403190fed4b44787708e"
            }
          },
          "metadata": {}
        }
      ]
    },
    {
      "metadata": {
        "trusted": true,
        "_uuid": "9ffcd7a6e83eecbc1d98643a2fe493e6726a5552"
      },
      "cell_type": "code",
      "source": "",
      "execution_count": null,
      "outputs": []
    }
  ],
  "metadata": {
    "kernelspec": {
      "display_name": "Python 3",
      "language": "python",
      "name": "python3"
    },
    "language_info": {
      "name": "python",
      "version": "3.6.6",
      "mimetype": "text/x-python",
      "codemirror_mode": {
        "name": "ipython",
        "version": 3
      },
      "pygments_lexer": "ipython3",
      "nbconvert_exporter": "python",
      "file_extension": ".py"
    }
  },
  "nbformat": 4,
  "nbformat_minor": 1
}